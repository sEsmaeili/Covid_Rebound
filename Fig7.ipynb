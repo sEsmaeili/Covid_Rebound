{
 "cells": [
  {
   "cell_type": "code",
   "execution_count": 1,
   "id": "c75dac1b",
   "metadata": {},
   "outputs": [],
   "source": [
    "# import packages\n",
    "import numpy as np\n",
    "import itertools as it\n",
    "import matplotlib.pyplot as plt\n",
    "import pandas as pd\n",
    "from sklearn.metrics import auc\n",
    "import os\n",
    "from scipy.integrate import odeint\n",
    "from scipy.signal import find_peaks, peak_prominences\n",
    "import scipy.integrate as spi\n",
    "import scipy.stats as st\n",
    "from array import *\n",
    "from scipy.optimize import curve_fit\n",
    "import matplotlib.pyplot as plt\n",
    "import seaborn as sns\n",
    "from statannotations.Annotator import Annotator\n",
    "import scipy.io as io\n",
    "import math\n",
    "import random\n",
    "import pickle\n",
    "from sklearn.metrics import r2_score\n",
    "from scipy.interpolate import CubicSpline\n",
    "\n",
    "from ipynb.fs.full.All_Functions import GetPopParams\n",
    "from ipynb.fs.full.All_Functions import GetPopParamsOmega\n",
    "from ipynb.fs.full.All_Functions import GetVLIndParams\n",
    "from ipynb.fs.full.All_Functions import RandVLIndParams\n",
    "from ipynb.fs.full.All_Functions import RandVLParams\n",
    "from ipynb.fs.full.All_Functions import ParamsPrep\n",
    "from ipynb.fs.full.All_Functions import PKPDParams\n",
    "from ipynb.fs.full.All_Functions import Cohort_Prep\n",
    "from ipynb.fs.full.All_Functions import VLModel\n",
    "from ipynb.fs.full.All_Functions import VLPKPD\n",
    "from ipynb.fs.full.All_Functions import PK_Model\n",
    "from ipynb.fs.full.All_Functions import PD_Model\n",
    "#from ipynb.fs.full.All_Functions import SetInit\n",
    "from ipynb.fs.full.All_Functions import SimulateTreatment\n",
    "from ipynb.fs.full.All_Functions import Trial_Simulation\n",
    "from ipynb.fs.full.All_Functions import Trial_Simulation_paramInput\n",
    "from ipynb.fs.full.All_Functions import SimulateTreatmentPK\n",
    "from ipynb.fs.full.All_Functions import TreatmentImpact\n",
    "from ipynb.fs.full.All_Functions import CI_Calc\n",
    "%matplotlib inline"
   ]
  },
  {
   "cell_type": "code",
   "execution_count": 2,
   "id": "ffea16c0",
   "metadata": {},
   "outputs": [],
   "source": [
    "import warnings\n",
    "warnings.filterwarnings(\"ignore\")"
   ]
  },
  {
   "cell_type": "code",
   "execution_count": 3,
   "id": "a241d5c5",
   "metadata": {},
   "outputs": [
    {
     "name": "stdout",
     "output_type": "stream",
     "text": [
      "560\n"
     ]
    }
   ],
   "source": [
    "data_file = r'/Users/sesmaeil/Library/CloudStorage/OneDrive-SharedLibraries-FredHutchinsonCancerResearchCenter/Schiffer Group - Shared Resources - SARSCoV2ComboModeling/Within-Host Viral Dynamics Model/NBACohort/NBA_1510infections_7BroadVariants.csv'\n",
    "Data_df = pd.read_csv(data_file)\n",
    "Data_unVacc = Data_df[(Data_df.cat_VaccStatus!='Boosted')*(Data_df.cat_VaccStatus!='Second dose')*(Data_df.cat_VaccStatus!='First dose') ]\n",
    "Data_unVacc_symp = Data_unVacc[Data_unVacc.cat_SympEver != 'No']\n",
    "IDs_Symp = Data_unVacc_symp.ID.unique()\n",
    "print(len(Data_unVacc_symp.ID.unique()))\n",
    "Olddata_file = r'/Users/sesmaeil/Library/CloudStorage/OneDrive-SharedLibraries-FredHutchinsonCancerResearchCenter/Schiffer Group - Shared Resources - SARSCoV2ComboModeling/Within-Host Viral Dynamics Model/NBACohort/NBA_1510infections_AppendNegatives.csv'\n",
    "OldData_df = pd.read_csv(Olddata_file)\n",
    "OldData_unVacc = OldData_df[(OldData_df.cat_VaccStatus!='Boosted')*(OldData_df.cat_VaccStatus!='Second dose')*(OldData_df.cat_VaccStatus!='First dose') ]\n",
    "\n",
    "\n",
    "IDs_unVacc = Data_unVacc.ID.unique()\n",
    "OldIDs_unVacc = OldData_unVacc.ID.unique()\n",
    "\n",
    "\n",
    "DeltaCases = Data_unVacc[Data_unVacc.cat_Lineage7variants == 'Delta']\n",
    "\n",
    "ID_Delta = DeltaCases.ID.unique()\n",
    "#print(len(ID_Delta))\n",
    "IndParameters = r'/Users/sesmaeil/Library/CloudStorage/OneDrive-SharedLibraries-FredHutchinsonCancerResearchCenter/Schiffer Group - Shared Resources - SARSCoV2ComboModeling/Within-Host Viral Dynamics Model/NBACohort/getModes_Run004/IndividualParameters/estimatedIndividualParameters.txt'\n",
    "PopParameters = r'/Users/sesmaeil/Library/CloudStorage/OneDrive-SharedLibraries-FredHutchinsonCancerResearchCenter/Schiffer Group - Shared Resources - SARSCoV2ComboModeling/Within-Host Viral Dynamics Model/NBACohort/getModes_Run004/populationParameters.txt'\n",
    "\n",
    "parameters_df = pd.read_csv(IndParameters)\n",
    "Popparameters_df = pd.read_csv(PopParameters)\n",
    "\n",
    "Popparameters_U_file = r'/Users/sesmaeil/Library/CloudStorage/OneDrive-SharedLibraries-FredHutchinsonCancerResearchCenter/Schiffer Group - Shared Resources - SARSCoV2ComboModeling/PK-PD Modeling/NIRpopulationParameters(2).txt'\n",
    "\n",
    "Popparameters_PK = pd.read_csv(Popparameters_U_file)"
   ]
  },
  {
   "cell_type": "code",
   "execution_count": 4,
   "id": "7760cf7c",
   "metadata": {},
   "outputs": [
    {
     "data": {
      "text/plain": [
       "0    4.61\n",
       "Name: Mean, dtype: float64"
      ]
     },
     "execution_count": 4,
     "metadata": {},
     "output_type": "execute_result"
    }
   ],
   "source": [
    "param_order = ['beta', 'phi', 'rho', 'k', 'delta', 'm', 'pi', 'c', 'tau']\n",
    "fixed_params = dict({'c': 15, 'r':10, 'k':4})\n",
    "param_dist = dict({'log10beta':'normal', 'log10phi':'normal', 'log10rho':'normal', \n",
    "                   'delta':'logNormal', 'h': 'logNormal', 'm': 'logNormal', \n",
    "                   'log10pi':'normal','tau': 'logNormal', 'tzero':'logitNormal',\n",
    "                   'tzeromin': 0.75, 'tzeromax':20})\n",
    "\n",
    "Incubation_params = []\n",
    "Variance = ['Historic', 'Alpha', 'Gamma', 'Delta', 'Omicron', 'Total']\n",
    "Mean = [4.61, 4.96, 5.18, 4.43, 3.61, 4.54, 4.54]\n",
    "SD = [2.24, 2.32, 2.72, 2.19, 1.82, 2.25]\n",
    "\n",
    "for var, mean, sd in zip(Variance, Mean, SD):\n",
    "    Incubation_params.append({'VOC': var, 'Mean': mean, 'sd': sd})\n",
    "\n",
    "Incubation_params = pd.DataFrame(Incubation_params)\n",
    "Incubation_params[Incubation_params.VOC == 'Historic'].Mean"
   ]
  },
  {
   "cell_type": "code",
   "execution_count": 5,
   "id": "4ae386b7",
   "metadata": {},
   "outputs": [],
   "source": [
    "# Nirmatrelvir in vitro IC50\n",
    "Emax = 0.9999\n",
    "IC50 = 0.0436\n",
    "Hill = 3.16\n",
    "PDOm = 0.026, 0.0032, 0.42\n",
    "MolMass = 499.5   #g/Mol\n"
   ]
  },
  {
   "cell_type": "code",
   "execution_count": 6,
   "id": "3666b87a",
   "metadata": {},
   "outputs": [],
   "source": [
    "def SetInit(param_dict):\n",
    "    T_0 = 10**7\n",
    "    R_0 = 0;\n",
    "    E_0 = 0;\n",
    "    I_0 = 0\n",
    "    V_0 = param_dict['Vzero']\n",
    "    #param_dict['pi']*I_0/param_dict['c']\n",
    "    return [T_0, R_0, E_0, I_0, V_0]"
   ]
  },
  {
   "cell_type": "code",
   "execution_count": 7,
   "id": "8e3ace4c",
   "metadata": {},
   "outputs": [],
   "source": [
    "def Incubation_Prep(Data_unVacc_symp, Incubation_params, Cohort, TrtmntStrtDay, params, \n",
    "                        PKPDInd, param_dict, PotRed, MolMass, dose, SetInit, VLPKPD,\n",
    "                       TreatmentLength = 5, TreatmentFrequency = 0.5):\n",
    "    for idi, ID, tstart, in zip(range(0,len(Cohort)), Cohort, TrtmntStrtDay):\n",
    "\n",
    "            tzero_est = param_dict[idi]['tzero']\n",
    "            tau_est = param_dict[idi]['tau']\n",
    "            if Data_unVacc_symp[Data_unVacc_symp.ID == ID].cat_Lineage7variants.unique()[0]=='None':\n",
    "                Lineage = 'Total'\n",
    "                shape = (Incubation_params[Incubation_params.VOC == Lineage].Mean/Incubation_params[Incubation_params.VOC == Lineage].sd)**2\n",
    "                scale = (Incubation_params[Incubation_params.VOC == Lineage].sd**2)/Incubation_params[Incubation_params.VOC == Lineage].Mean\n",
    "            else:\n",
    "                Lineage = Data_unVacc_symp[Data_unVacc_symp.ID==ID].cat_Lineage7variants.unique()[0]\n",
    "                shape = (Incubation_params[Incubation_params.VOC == Lineage].Mean/Incubation_params[Incubation_params.VOC == Lineage].sd)**2\n",
    "                scale = (Incubation_params[Incubation_params.VOC == Lineage].sd**2)/Incubation_params[Incubation_params.VOC == Lineage].Mean\n",
    "\n",
    "            incub = np.random.gamma(shape, scale)\n",
    "\n",
    "            params[idi][-1] = params[idi][-1]+(tzero_est-incub[0])\n",
    "            param_dict[idi]['tzero']=incub[0]\n",
    "            param_dict[idi]['tau']=params[idi][-1]\n",
    "            t, y, dosetimes = Trial_Simulation_paramInput(tstart, params[idi][:], \n",
    "                                                          PKPDInd[idi], param_dict[idi], \n",
    "                                                          PotRed[idi], MolMass, 0, SetInit, VLPKPD,\n",
    "                                   TreatmentLength = TreatmentLength, TreatmentFrequency = TreatmentFrequency)\n",
    "            T,R,E,I,V, Ag, A1, A2 = y.T\n",
    "            v = np.log10(np.maximum(V,10**2))\n",
    "            v[v==2]=1\n",
    "            Tmax_index = np.argwhere(v==max(v))[0][0]\n",
    "            Tmax = t[Tmax_index]\n",
    "\n",
    "            PS_Duration = t[np.where((v == 1) & (t>Tmax))]\n",
    "\n",
    "            while (PS_Duration != [] and PS_Duration[0]<5):\n",
    "                params[idi][-1] = tau_est\n",
    "                param_dict[idi]['tzero']=tzero_est\n",
    "                param_dict[idi]['tau']=tau_est\n",
    "\n",
    "                incub = np.random.gamma(shape, scale)\n",
    "\n",
    "                params[idi][-1] = params[idi][-1]+(tzero_est-incub[0])\n",
    "                param_dict[idi]['tzero']=incub[0]\n",
    "                param_dict[idi]['tau']=params[idi][-1]\n",
    "\n",
    "                t, y, dosetimes = Trial_Simulation_paramInput(tstart, params[idi][:], \n",
    "                                                          PKPDInd[idi], param_dict[idi], \n",
    "                                                          PotRed[idi], MolMass, 0, SetInit, VLPKPD,\n",
    "                                   TreatmentLength = TreatmentLength, TreatmentFrequency = TreatmentFrequency)\n",
    "                T,R,E,I,V, Ag, A1, A2 = y.T\n",
    "                v = np.log10(np.maximum(V,10**2))\n",
    "                v[v==2]=1\n",
    "                Tmax_index = np.argwhere(v==max(v))[0][0]\n",
    "                Tmax = t[Tmax_index]\n",
    "                PS_Duration = t[np.where((v == 1) & (t>Tmax))]\n",
    "    \n",
    "    return params, param_dict"
   ]
  },
  {
   "cell_type": "code",
   "execution_count": 8,
   "id": "584b7f7e",
   "metadata": {},
   "outputs": [],
   "source": [
    "def StandardDoseTimeSim(Cohort, TrtmntStrtDay, params, \n",
    "                        PKPDInd, param_dict, PotRed, MolMass, dose, SetInit, VLPKPD,\n",
    "                       TreatmentLength = 5, TreatmentFrequency = 0.5):\n",
    "    X = []\n",
    "    times = []\n",
    "    for idi, ID, tstart, in zip(range(0,len(Cohort)), Cohort, TrtmntStrtDay):\n",
    "        \n",
    "\n",
    "        t, y, dosetimes = Trial_Simulation_paramInput(tstart, params[idi][:], \n",
    "                                                      PKPDInd[idi], param_dict[idi], \n",
    "                                                      PotRed[idi], MolMass, dose, SetInit, VLPKPD,\n",
    "                               TreatmentLength = TreatmentLength, TreatmentFrequency = TreatmentFrequency)\n",
    "        T,R,E,I,V, Ag, A1, A2 = y.T\n",
    "        v = np.log10(np.maximum(V,10**2))\n",
    "        v[v==2]=1\n",
    "        X.append(v)\n",
    "        times.append(t)\n",
    "    return X, times"
   ]
  },
  {
   "cell_type": "code",
   "execution_count": 11,
   "id": "45fd82e3",
   "metadata": {},
   "outputs": [
    {
     "name": "stdout",
     "output_type": "stream",
     "text": [
      "2\n",
      "5\n",
      "10\n",
      "15\n",
      "20\n"
     ]
    },
    {
     "ename": "IndexError",
     "evalue": "index 0 is out of bounds for axis 0 with size 0",
     "output_type": "error",
     "traceback": [
      "\u001b[0;31m---------------------------------------------------------------------------\u001b[0m",
      "\u001b[0;31mIndexError\u001b[0m                                Traceback (most recent call last)",
      "Input \u001b[0;32mIn [11]\u001b[0m, in \u001b[0;36m<cell line: 18>\u001b[0;34m()\u001b[0m\n\u001b[1;32m     60\u001b[0m \u001b[38;5;28;01mfor\u001b[39;00m ii,(x,t) \u001b[38;5;129;01min\u001b[39;00m \u001b[38;5;28menumerate\u001b[39m(\u001b[38;5;28mzip\u001b[39m(X,times)):\n\u001b[1;32m     61\u001b[0m \u001b[38;5;66;03m# -- flag rebound if increase of viral load by at least 2 log following end of treatment\u001b[39;00m\n\u001b[1;32m     62\u001b[0m     temp \u001b[38;5;241m=\u001b[39m np\u001b[38;5;241m.\u001b[39margwhere(t\u001b[38;5;241m>\u001b[39mTrtmntStrtDay[ii]\u001b[38;5;241m+\u001b[39mdur)\n\u001b[0;32m---> 63\u001b[0m     idx \u001b[38;5;241m=\u001b[39m \u001b[43mtemp\u001b[49m\u001b[43m[\u001b[49m\u001b[38;5;241;43m0\u001b[39;49m\u001b[43m]\u001b[49m[\u001b[38;5;241m0\u001b[39m]\n\u001b[1;32m     64\u001b[0m     \u001b[38;5;28;01mif\u001b[39;00m (np\u001b[38;5;241m.\u001b[39mmax(x[idx:])\u001b[38;5;241m-\u001b[39mx[idx])\u001b[38;5;241m>\u001b[39m\u001b[38;5;241m2\u001b[39m:\n\u001b[1;32m     65\u001b[0m         L2[ii] \u001b[38;5;241m=\u001b[39m \u001b[38;5;241m1\u001b[39m\n",
      "\u001b[0;31mIndexError\u001b[0m: index 0 is out of bounds for axis 0 with size 0"
     ]
    }
   ],
   "source": [
    "# heatmap of rebound as a function of potency and timing of therapy\n",
    "# prepare cohort parameters\n",
    "Emax = 0.9999\n",
    "IC50 = 0.0436\n",
    "Hill = 3.16\n",
    "PDOm = 0.026, 0.0032, 0.42\n",
    "prf = [73, 61, 61, 61, 61, 65, 57, 61, 61, 65] # prf values that maximized R2 for 10 runs (fig2c)\n",
    "MolMass = 499.5 \n",
    "Num = 400\n",
    "Cohort = Cohort_Prep(IDs_Symp, Num)\n",
    "CohortStyle = 'direct'\n",
    "rebound_prob2_dur = []\n",
    "rebound_prob1_dur = []\n",
    "rebound_prob05_dur = []\n",
    "Median_drop_VL_mat_dur =[]\n",
    "Median_VL_mat_dur =[]\n",
    "\n",
    "for dur in [2, 5, 10, 15]:\n",
    "    print(dur)\n",
    "    rebound2 = []\n",
    "    rebound1 = []\n",
    "    rebound05 = []\n",
    "    drop_VL = []\n",
    "    VL = []\n",
    "    Median_drop_VL = []\n",
    "    Median_VL = []\n",
    "    for timing in ['PEP', 'Early Trtmnt', 'Trial', 'Late Trtmnt']: \n",
    "        Cohort = Cohort_Prep(IDs_Symp, Num)\n",
    "        dose = 300\n",
    "        PotRed=np.random.normal(np.mean(prf), np.std(prf), Num)\n",
    "        VLparams, PKPD_params, param_dict = ParamsPrep(Cohort, CohortStyle, GetVLIndParams, \n",
    "                                                   RandVLParams, parameters_df, Popparameters_df, \n",
    "                                                   fixed_params, param_order, param_dist, PKPDParams, \n",
    "                                                   Popparameters_PK, GetPopParams, GetPopParamsOmega, \n",
    "                                                   Emax, IC50, Hill,PDOm, dose)\n",
    "        VLparams, param_dict = Incubation_Prep(Data_unVacc_symp, Incubation_params, Cohort,np.ones(Num), VLparams, \n",
    "                                       PKPD_params, param_dict, PotRed, MolMass, 0, SetInit, VLPKPD,\n",
    "                                       TreatmentLength = 5, TreatmentFrequency = 0.5)\n",
    "\n",
    "        if timing == 'PEP':\n",
    "            TrtmntStrtDay = [random.randint(0, 1) for i in range(0,len(Cohort))]\n",
    "            for idi in range(0, Num):\n",
    "                if (TrtmntStrtDay[idi]-param_dict[idi]['tzero']>0):\n",
    "                    TrtmntStrtDay [idi] =  -param_dict[idi]['tzero']\n",
    "                else:\n",
    "                    TrtmntStrtDay [idi] =TrtmntStrtDay[idi]-param_dict[idi]['tzero']\n",
    "        elif timing == 'Early Trtmnt':\n",
    "            TrtmntStrtDay = [random.randint(0, 1) for i in range(0,len(Cohort))]\n",
    "        elif timing =='Trial':\n",
    "            TrtmntStrtDay = [random.randint(1, 5) for i in range(0,len(Cohort))]\n",
    "        else:\n",
    "            TrtmntStrtDay = [random.randint(5, 10) for i in range(0,len(Cohort))]\n",
    "\n",
    "        X, times = StandardDoseTimeSim(Cohort,TrtmntStrtDay, VLparams, \n",
    "                                       PKPD_params, param_dict, PotRed, MolMass, dose, SetInit, VLPKPD,\n",
    "                                       TreatmentLength = dur, TreatmentFrequency = 0.5)\n",
    "        L2 = np.zeros(len(X))\n",
    "        L1 = np.zeros(len(X))\n",
    "        L05 = np.zeros(len(X))\n",
    "        for ii,(x,t) in enumerate(zip(X,times)):\n",
    "        # -- flag rebound if increase of viral load by at least 2 log following end of treatment\n",
    "            temp = np.argwhere(t>TrtmntStrtDay[ii]+dur)\n",
    "            idx = temp[0][0]\n",
    "            if (np.max(x[idx:])-x[idx])>2:\n",
    "                L2[ii] = 1\n",
    "            if (np.max(x[idx:])-x[idx])>1:\n",
    "                L1[ii] = 1\n",
    "            if (np.max(x[idx:])-x[idx])>0.5:\n",
    "                L05[ii] = 1\n",
    "            t_on = np.argwhere(t >= TrtmntStrtDay[ii])[0][0]#index of treatment start\n",
    "            t_target = np.argwhere(t>=TrtmntStrtDay[ii]+dur)[0][0]\n",
    "            drop_VL.append(x[t_target]-x[t_on])\n",
    "            VL.append(x[t_target])\n",
    "            \n",
    "        Median_drop_VL.append(np.median(drop_VL, axis=0))\n",
    "        Median_VL.append(np.median(VL, axis=0))\n",
    "        rebound1.append((np.sum(L1)/Num)*100)\n",
    "        rebound2.append((np.sum(L2)/Num)*100)\n",
    "        rebound05.append((np.sum(L05)/Num)*100)\n",
    "    rebound_prob2_dur.append(rebound2)\n",
    "    rebound_prob1_dur.append(rebound1)\n",
    "    rebound_prob05_dur.append(rebound05)\n",
    "    Median_drop_VL_mat_dur.append(Median_drop_VL)\n",
    "    Median_VL_mat_dur.append(Median_VL)"
   ]
  },
  {
   "cell_type": "code",
   "execution_count": 13,
   "id": "fdc0a97b",
   "metadata": {},
   "outputs": [],
   "source": [
    "pickle.dump(Median_VL_mat_dur , open('FigureData/VL_HeatMap_durtiming.pickle', 'wb'))\n",
    "pickle.dump(Median_drop_VL_mat_dur, open('FigureData/dropVL_Median_HeatMap_durtiming.pickle', 'wb'))\n",
    "pickle.dump(rebound_prob2_dur, open('FigureData/rebound05_HeatMap_durtiming.pickle', 'wb'))\n",
    "pickle.dump(rebound_prob1_dur, open('FigureData/rebound1_HeatMap_durtiming.pickle', 'wb'))\n",
    "pickle.dump(rebound_prob05_dur, open('FigureData/rebound2_HeatMap_durtiming.pickle', 'wb'))"
   ]
  },
  {
   "cell_type": "code",
   "execution_count": 21,
   "id": "71a7ad29",
   "metadata": {},
   "outputs": [
    {
     "data": {
      "text/plain": [
       "[Text(0.5, 0, 'PEP'),\n",
       " Text(1.5, 0, 'Early'),\n",
       " Text(2.5, 0, 'Intermediate'),\n",
       " Text(3.5, 0, 'Late')]"
      ]
     },
     "execution_count": 21,
     "metadata": {},
     "output_type": "execute_result"
    },
    {
     "data": {
      "image/png": "[encoded data removed]",
      "text/plain": [
       "<Figure size 1080x432 with 4 Axes>"
      ]
     },
     "metadata": {
      "needs_background": "light"
     },
     "output_type": "display_data"
    }
   ],
   "source": [
    "fig = plt.figure(figsize = (15,6))\n",
    "plt.rcParams.update({'font.size': 17})\n",
    "ylabels = [2, 5, 10, 15]\n",
    "plt.subplot(1,2,1)\n",
    "ax = sns.heatmap(rebound_prob1_dur, vmin =0, vmax = 100, annot = False, fmt = '.1f', \n",
    "                  yticklabels = ylabels, xticklabels = ['PEP', 'Early', 'Intermediate', 'Late'],\n",
    "                  cmap = \"icefire\")\n",
    "ax.invert_yaxis()\n",
    "ax.set_xticklabels(ax.get_xticklabels(), rotation=15)\n",
    "#plt.ylabel('Treatment Duration')\n",
    "#plt.xlabel('Timing of Treatment')\n",
    "#fig.text(0.45, 1, 'rebound \\n probability (%)', \n",
    "      #   ha='center', va='center', size = '15')\n",
    "plt.subplot(1,2,2)\n",
    "ax = sns.heatmap(Median_VL_mat_dur, vmin =0, vmax = 7, cmap = 'icefire', \n",
    "                 annot = False, fmt = '.1f', yticklabels = ylabels, \n",
    "                 xticklabels = ['PEP', 'Early', 'Intermediate', 'Late'],\n",
    "                 )\n",
    "ax.invert_yaxis()\n",
    "ax.set_xticklabels(ax.get_xticklabels(), rotation=15)\n",
    "#fig.text(0.85, 1, 'log10 viral load \\n at the end of treatment ', \n",
    "    #     ha='center', va='center', size = '15')\n",
    "#plt.ylabel('Treatment Duration')\n",
    "#plt.xlabel('Timing of Treatment')\n",
    "#plt.savefig('PaperFigs/dur-timingHeatmaps_1log.svg')\n",
    "#plt.savefig('PaperFigs/dur-timingHeatmaps_1log.png')"
   ]
  },
  {
   "cell_type": "code",
   "execution_count": null,
   "id": "b5149cb2",
   "metadata": {},
   "outputs": [],
   "source": []
  }
 ],
 "metadata": {
  "kernelspec": {
   "display_name": "Python 3 (ipykernel)",
   "language": "python",
   "name": "python3"
  },
  "language_info": {
   "codemirror_mode": {
    "name": "ipython",
    "version": 3
   },
   "file_extension": ".py",
   "mimetype": "text/x-python",
   "name": "python",
   "nbconvert_exporter": "python",
   "pygments_lexer": "ipython3",
   "version": "3.9.12"
  }
 },
 "nbformat": 4,
 "nbformat_minor": 5
}
