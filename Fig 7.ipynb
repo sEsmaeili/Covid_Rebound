{
 "cells": [
  {
   "cell_type": "code",
   "execution_count": 2,
   "id": "5ab2c626",
   "metadata": {},
   "outputs": [],
   "source": [
    "# import packages\n",
    "import numpy as np\n",
    "import itertools as it\n",
    "import matplotlib.pyplot as plt\n",
    "import pandas as pd\n",
    "from sklearn.metrics import auc\n",
    "import os\n",
    "from scipy.integrate import odeint\n",
    "from scipy.signal import find_peaks, peak_prominences\n",
    "import scipy.integrate as spi\n",
    "import scipy.stats as st\n",
    "from array import *\n",
    "from scipy.optimize import curve_fit\n",
    "import matplotlib.pyplot as plt\n",
    "import seaborn as sns\n",
    "from statannotations.Annotator import Annotator\n",
    "import scipy.io as io\n",
    "import math\n",
    "import random\n",
    "import pickle\n",
    "from sklearn.metrics import r2_score\n",
    "from scipy.interpolate import CubicSpline\n",
    "from ipynb.fs.full.All_Functions import GetPopParams\n",
    "from ipynb.fs.full.All_Functions import GetPopParamsOmega\n",
    "from ipynb.fs.full.All_Functions import GetVLIndParams\n",
    "from ipynb.fs.full.All_Functions import RandVLIndParams\n",
    "from ipynb.fs.full.All_Functions import RandVLParams\n",
    "from ipynb.fs.full.All_Functions import PKPDParams\n",
    "from ipynb.fs.full.All_Functions import Cohort_Prep\n",
    "from ipynb.fs.full.All_Functions import VLModel\n",
    "from ipynb.fs.full.All_Functions import VLPKPD\n",
    "from ipynb.fs.full.All_Functions import PK_Model\n",
    "from ipynb.fs.full.All_Functions import PD_Model\n",
    "#from ipynb.fs.full.All_Functions import SetInit\n",
    "from ipynb.fs.full.All_Functions import SimulateTreatment\n",
    "from ipynb.fs.full.All_Functions import Trial_Simulation\n",
    "from ipynb.fs.full.All_Functions import Trial_Simulation_paramInput\n",
    "from ipynb.fs.full.All_Functions import SimulateTreatmentPK\n",
    "from ipynb.fs.full.All_Functions import TreatmentImpact\n",
    "from ipynb.fs.full.All_Functions import CI_Calc\n",
    "from ipynb.fs.full.All_Functions import ParamsPrep\n",
    "%matplotlib inline"
   ]
  },
  {
   "cell_type": "code",
   "execution_count": 3,
   "id": "c418c0fb",
   "metadata": {},
   "outputs": [],
   "source": [
    "def StandardDoseTimeSim(TrtmntStrtDay, params, \n",
    "                        PKPDInd, param_dict, PotRed, MolMass, dose, SetInit, VLPKPD,\n",
    "                       TreatmentLength = 5, TreatmentFrequency = 0.5):\n",
    "    X = []\n",
    "    times = []\n",
    "    for idi, tstart, in enumerate(TrtmntStrtDay):\n",
    "        t, y, dosetimes = Trial_Simulation_paramInput(tstart, params[idi][:], \n",
    "                                                      PKPDInd[idi], param_dict[idi], \n",
    "                                                      PotRed, MolMass, dose, SetInit, VLPKPD,\n",
    "                               TreatmentLength = TreatmentLength, TreatmentFrequency = TreatmentFrequency)\n",
    "        T,R,E,I,V, Ag, A1, A2 = y.T\n",
    "        X.append(np.log10(np.maximum(V,10**2)))\n",
    "        X[idi][X[idi]==2]=1\n",
    "        times.append(t)\n",
    "    return X, times"
   ]
  },
  {
   "cell_type": "code",
   "execution_count": 4,
   "id": "214c80d9",
   "metadata": {},
   "outputs": [],
   "source": [
    "import warnings\n",
    "warnings.filterwarnings(\"ignore\")"
   ]
  },
  {
   "cell_type": "code",
   "execution_count": 5,
   "id": "3c7482ef",
   "metadata": {},
   "outputs": [],
   "source": [
    "##  --- Within-host parameters\n",
    "\n",
    "\n",
    "parameters_file =  r'/Users/sesmaeil/Library/CloudStorage/OneDrive-SharedLibraries-FredHutchinsonCancerResearchCenter/Schiffer Group - Shared Resources - SARSCoV2ComboModeling/Monolix/Projects/E0_I0_Vest_logitt0_SympOnsetKnown_AppendNegatives/IndividualParameters/estimatedIndividualParameters.txt'\n",
    "Popparameters_file =  r'/Users/sesmaeil/Library/CloudStorage/OneDrive-SharedLibraries-FredHutchinsonCancerResearchCenter/Schiffer Group - Shared Resources - SARSCoV2ComboModeling/Monolix/Projects/E0_I0_Vest_logitt0_SympOnsetKnown_AppendNegatives/populationParameters.txt'\n",
    "data_file = r'/Users/sesmaeil/Library/CloudStorage/OneDrive-SharedLibraries-FredHutchinsonCancerResearchCenter/Schiffer Group - Shared Resources - SARSCoV2ComboModeling/Monolix/Data/NBA_SymptomOnsetKnown_AppendNegatives.csv'\n",
    "\n",
    "# load parameters into data frame\n",
    "parameters_df = pd.read_csv(parameters_file)\n",
    "Popparameters_df = pd.read_csv(Popparameters_file)\n",
    "data_df = pd.read_csv(data_file)\n",
    "IDsTot_param = parameters_df.id\n",
    "IDsTot = data_df.ID.unique()\n",
    "\n",
    "## --------------------- PK parameters -----------------------------\n",
    "Indparameters_U_file = r'/Users/sesmaeil/Library/CloudStorage/OneDrive-SharedLibraries-FredHutchinsonCancerResearchCenter/Schiffer Group - Shared Resources - SARSCoV2ComboModeling/PK-PD Modeling/NIRestimatedIndividualParameters.txt'\n",
    "Popparameters_U_file = r'/Users/sesmaeil/Library/CloudStorage/OneDrive-SharedLibraries-FredHutchinsonCancerResearchCenter/Schiffer Group - Shared Resources - SARSCoV2ComboModeling/PK-PD Modeling/NIRpopulationParameters(2).txt'\n",
    "Indparameters_PK = pd.read_csv(Indparameters_U_file)\n",
    "Popparameters_PK = pd.read_csv(Popparameters_U_file)\n",
    "\n",
    "IDs_U = Indparameters_PK.id.unique()"
   ]
  },
  {
   "cell_type": "code",
   "execution_count": 6,
   "id": "16d9eb25",
   "metadata": {},
   "outputs": [],
   "source": [
    "param_order = ['beta', 'phi', 'rho', 'k', 'delta','h', 'm', 'pi', 'c', 'tAI']\n",
    "fixed_params = dict({'c': 15, 'r':10, 'k':4})\n",
    "param_dist = dict({'V0':'logitNormal', 'V0min': 0, 'V0max': 250, 'log10beta':'normal', 'log10phi':'normal', 'log10rho':'normal', \n",
    "                   'delta':'logNormal', 'h': 'logNormal', 'm': 'logNormal', \n",
    "                   'log10pi':'normal','tAI': 'logNormal', 'tzero':'logitNormal',\n",
    "                   'tzeromin': 0.75, 'tzeromax':30})"
   ]
  },
  {
   "cell_type": "code",
   "execution_count": 7,
   "id": "3d03ee77",
   "metadata": {},
   "outputs": [],
   "source": [
    "# Nirmatrelvir in vitro IC50\n",
    "Emax = 0.9999\n",
    "IC50 = 0.0436\n",
    "Hill = 3.16\n",
    "PDOm = 0.026, 0.0032, 0.42\n",
    "MolMass = 499.5   #g/Mol\n",
    "dose =300"
   ]
  },
  {
   "cell_type": "code",
   "execution_count": 8,
   "id": "c5a7b40f",
   "metadata": {},
   "outputs": [],
   "source": [
    "def SetInit(param_dict):\n",
    "    T_0 = 10**7\n",
    "    R_0 = 0;\n",
    "    E_0 = 0;\n",
    "    I_0 = 0\n",
    "    V_0 = param_dict['V0']\n",
    "    #param_dict['pi']*I_0/param_dict['c']\n",
    "    return [T_0, R_0, E_0, I_0, V_0]"
   ]
  },
  {
   "cell_type": "code",
   "execution_count": 10,
   "id": "932536d4",
   "metadata": {},
   "outputs": [
    {
     "name": "stdout",
     "output_type": "stream",
     "text": [
      "2\n",
      "5\n",
      "10\n",
      "15\n"
     ]
    }
   ],
   "source": [
    "# heatmap of rebound as a function of potency and timing of therapy\n",
    "# prepare cohort parameters\n",
    "Emax = 0.9999\n",
    "IC50 = 0.0436\n",
    "Hill = 3.16\n",
    "PDOm = 0.026, 0.0032, 0.42\n",
    "PotRed = 61\n",
    "MolMass = 499.5 \n",
    "Num = 787\n",
    "Cohort = Cohort_Prep(IDsTot_param, Num)\n",
    "CohortStyle = 'direct'\n",
    "rebound_prob2_dur = []\n",
    "rebound_prob1_dur = []\n",
    "rebound_prob05_dur = []\n",
    "Median_drop_VL_mat_dur =[]\n",
    "Median_VL_mat_dur =[]\n",
    "\n",
    "for dur in [2, 5, 10, 15]:\n",
    "    print(dur)\n",
    "    rebound2 = []\n",
    "    rebound1 = []\n",
    "    rebound05 = []\n",
    "    drop_VL = []\n",
    "    VL = []\n",
    "    Median_drop_VL = []\n",
    "    Median_VL = []\n",
    "    for timing in ['PEP', 'Early Trtmnt', 'Trial', 'Late Trtmnt']: \n",
    "        Cohort = Cohort_Prep(IDsTot_param, Num)\n",
    "        dose = 300\n",
    "        VLparams, PKPD_params, param_dict = ParamsPrep(Cohort, CohortStyle, GetVLIndParams, \n",
    "                                                   RandVLParams, parameters_df, Popparameters_df, \n",
    "                                                   fixed_params, param_order, param_dist, PKPDParams, \n",
    "                                                   Popparameters_PK, GetPopParams, GetPopParamsOmega, \n",
    "                                                   Emax, IC50, Hill,PDOm, dose)\n",
    "        if timing == 'PEP':\n",
    "            TrtmntStrtDay = [random.randint(0, 1) for i in range(0,len(Cohort))]\n",
    "            for idi in range(0, Num):\n",
    "                if (TrtmntStrtDay[idi]-param_dict[idi]['tzero']>0):\n",
    "                    TrtmntStrtDay [idi] =  -param_dict[idi]['tzero']\n",
    "                else:\n",
    "                    TrtmntStrtDay [idi] =TrtmntStrtDay[idi]-param_dict[idi]['tzero']\n",
    "        elif timing == 'Early Trtmnt':\n",
    "            TrtmntStrtDay = [random.randint(0, 1) for i in range(0,len(Cohort))]\n",
    "        elif timing =='Trial':\n",
    "            TrtmntStrtDay = [random.randint(1, 5) for i in range(0,len(Cohort))]\n",
    "        else:\n",
    "            TrtmntStrtDay = [random.randint(5, 10) for i in range(0,len(Cohort))]\n",
    "\n",
    "        X, times = StandardDoseTimeSim(TrtmntStrtDay, VLparams, \n",
    "                                       PKPD_params, param_dict, PotRed, MolMass, dose, SetInit, VLPKPD,\n",
    "                                       TreatmentLength = dur, TreatmentFrequency = 0.5)\n",
    "        L2 = np.zeros(len(X))\n",
    "        L1 = np.zeros(len(X))\n",
    "        L05 = np.zeros(len(X))\n",
    "        for ii,(x,t) in enumerate(zip(X,times)):\n",
    "        # -- flag rebound if increase of viral load by at least 2 log following end of treatment\n",
    "            temp = np.argwhere(t>TrtmntStrtDay[ii]+dur)\n",
    "            idx = temp[0][0]\n",
    "            if (np.max(x[idx:])-x[idx])>2:\n",
    "                L2[ii] = 1\n",
    "            if (np.max(x[idx:])-x[idx])>1:\n",
    "                L1[ii] = 1\n",
    "            if (np.max(x[idx:])-x[idx])>0.5:\n",
    "                L05[ii] = 1\n",
    "            t_on = np.argwhere(t >= TrtmntStrtDay[ii])[0][0]#index of treatment start\n",
    "            t_target = np.argwhere(t>=TrtmntStrtDay[ii]+dur)[0][0]\n",
    "            drop_VL.append(x[t_target]-x[t_on])\n",
    "            VL.append(x[t_target])\n",
    "            \n",
    "        Median_drop_VL.append(np.median(drop_VL, axis=0))\n",
    "        Median_VL.append(np.median(VL, axis=0))\n",
    "        rebound1.append((np.sum(L1)/Num)*100)\n",
    "        rebound2.append((np.sum(L2)/Num)*100)\n",
    "        rebound05.append((np.sum(L05)/Num)*100)\n",
    "    rebound_prob2_dur.append(rebound2)\n",
    "    rebound_prob1_dur.append(rebound1)\n",
    "    rebound_prob05_dur.append(rebound05)\n",
    "    Median_drop_VL_mat_dur.append(Median_drop_VL)\n",
    "    Median_VL_mat_dur.append(Median_VL)"
   ]
  },
  {
   "cell_type": "code",
   "execution_count": 11,
   "id": "f9f8ef0c",
   "metadata": {},
   "outputs": [
    {
     "data": {
      "text/plain": [
       "Text(0.5, 28.0, 'Timing of Treatment')"
      ]
     },
     "execution_count": 11,
     "metadata": {},
     "output_type": "execute_result"
    },
    {
     "data": {
      "image/png": "[encoded data removed]",
      "text/plain": [
       "<Figure size 1080x432 with 4 Axes>"
      ]
     },
     "metadata": {
      "needs_background": "light"
     },
     "output_type": "display_data"
    }
   ],
   "source": [
    "fig = plt.figure(figsize = (15,6))\n",
    "plt.rcParams.update({'font.size': 15})\n",
    "ylabels = [2, 5, 10, 15]\n",
    "plt.subplot(1,2,1)\n",
    "ax = sns.heatmap(rebound_prob1_dur, vmin =0, vmax = 100, annot = False, fmt = '.1f', \n",
    "                  yticklabels = ylabels, xticklabels = ['PEP', 'Early', 'Intermediate', 'Late'],\n",
    "                  cmap = \"icefire\")\n",
    "ax.invert_yaxis()\n",
    "plt.ylabel('Treatment Duration')\n",
    "plt.xlabel('Timing of Treatment')\n",
    "fig.text(0.45, 1, 'rebound \\n probability (%)', \n",
    "         ha='center', va='center', size = '15')\n",
    "plt.subplot(1,2,2)\n",
    "ax = sns.heatmap(Median_VL_mat_dur, vmin =0, vmax = 7, cmap = 'icefire', \n",
    "                 annot = False, fmt = '.1f', yticklabels = ylabels, \n",
    "                 xticklabels = ['PEP', 'Early', 'Intermediate', 'Late'],\n",
    "                 )\n",
    "ax.invert_yaxis()\n",
    "fig.text(0.85, 1, 'log10 viral load \\n at the end of treatment ', \n",
    "         ha='center', va='center', size = '15')\n",
    "plt.ylabel('Treatment Duration')\n",
    "plt.xlabel('Timing of Treatment')"
   ]
  },
  {
   "cell_type": "code",
   "execution_count": null,
   "id": "6555de3c",
   "metadata": {},
   "outputs": [],
   "source": []
  }
 ],
 "metadata": {
  "kernelspec": {
   "display_name": "Python 3 (ipykernel)",
   "language": "python",
   "name": "python3"
  },
  "language_info": {
   "codemirror_mode": {
    "name": "ipython",
    "version": 3
   },
   "file_extension": ".py",
   "mimetype": "text/x-python",
   "name": "python",
   "nbconvert_exporter": "python",
   "pygments_lexer": "ipython3",
   "version": "3.9.12"
  }
 },
 "nbformat": 4,
 "nbformat_minor": 5
}
