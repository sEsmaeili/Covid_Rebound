{
 "cells": [
  {
   "cell_type": "code",
   "execution_count": 1,
   "id": "3099ac15",
   "metadata": {},
   "outputs": [],
   "source": [
    "# import packages\n",
    "import numpy as np\n",
    "import itertools as it\n",
    "import matplotlib.pyplot as plt\n",
    "import pandas as pd\n",
    "from sklearn.metrics import auc\n",
    "import os\n",
    "from scipy.integrate import odeint\n",
    "from scipy.signal import find_peaks, peak_prominences\n",
    "import scipy.integrate as spi\n",
    "import scipy.stats as st\n",
    "from array import *\n",
    "from scipy.optimize import curve_fit\n",
    "import matplotlib.pyplot as plt\n",
    "import seaborn as sns\n",
    "from statannotations.Annotator import Annotator\n",
    "import scipy.io as io\n",
    "import math\n",
    "import random\n",
    "import pickle\n",
    "from sklearn.metrics import r2_score\n",
    "from scipy.interpolate import CubicSpline\n",
    "from ipynb.fs.full.All_Functions import GetPopParams\n",
    "from ipynb.fs.full.All_Functions import GetPopParamsOmega\n",
    "from ipynb.fs.full.All_Functions import GetVLIndParams\n",
    "from ipynb.fs.full.All_Functions import RandVLIndParams\n",
    "from ipynb.fs.full.All_Functions import RandVLParams\n",
    "from ipynb.fs.full.All_Functions import PKPDParams\n",
    "from ipynb.fs.full.All_Functions import Cohort_Prep\n",
    "from ipynb.fs.full.All_Functions import VLModel\n",
    "from ipynb.fs.full.All_Functions import VLPKPD\n",
    "from ipynb.fs.full.All_Functions import PK_Model\n",
    "from ipynb.fs.full.All_Functions import PD_Model\n",
    "#from ipynb.fs.full.All_Functions import SetInit\n",
    "from ipynb.fs.full.All_Functions import SimulateTreatment\n",
    "from ipynb.fs.full.All_Functions import Trial_Simulation\n",
    "from ipynb.fs.full.All_Functions import Trial_Simulation_paramInput\n",
    "from ipynb.fs.full.All_Functions import SimulateTreatmentPK\n",
    "from ipynb.fs.full.All_Functions import TreatmentImpact\n",
    "from ipynb.fs.full.All_Functions import CI_Calc\n",
    "from ipynb.fs.full.All_Functions import ParamsPrep\n",
    "%matplotlib inline"
   ]
  },
  {
   "cell_type": "code",
   "execution_count": 2,
   "id": "ed6f5857",
   "metadata": {},
   "outputs": [],
   "source": [
    "def StandardDoseTimeSim(TrtmntStrtDay, params, \n",
    "                        PKPDInd, param_dict, PotRed, MolMass, dose, SetInit, VLPKPD,\n",
    "                       TreatmentLength = 5, TreatmentFrequency = 0.5):\n",
    "    X = []\n",
    "    times = []\n",
    "    for idi, tstart, in enumerate(TrtmntStrtDay):\n",
    "        t, y, dosetimes = Trial_Simulation_paramInput(tstart, params[idi][:], \n",
    "                                                      PKPDInd[idi], param_dict[idi], \n",
    "                                                      PotRed, MolMass, dose, SetInit, VLPKPD,\n",
    "                               TreatmentLength = TreatmentLength, TreatmentFrequency = TreatmentFrequency)\n",
    "        T,R,E,I,V, Ag, A1, A2 = y.T\n",
    "        X.append(np.log10(np.maximum(V,10**2)))\n",
    "        X[idi][X[idi]==2]=1\n",
    "        times.append(t)\n",
    "    return X, times"
   ]
  },
  {
   "cell_type": "code",
   "execution_count": 3,
   "id": "fe5a9994",
   "metadata": {},
   "outputs": [],
   "source": [
    "import warnings\n",
    "warnings.filterwarnings(\"ignore\")"
   ]
  },
  {
   "cell_type": "code",
   "execution_count": 12,
   "id": "f0b23a6a",
   "metadata": {},
   "outputs": [],
   "source": [
    "## --------------------- PK parameters -----------------------------\n",
    "Indparameters_U_file = r'/Users/sesmaeil/Library/CloudStorage/OneDrive-SharedLibraries-FredHutchinsonCancerResearchCenter/Schiffer Group - Shared Resources - SARSCoV2ComboModeling/PK-PD Modeling/NIRestimatedIndividualParameters.txt'\n",
    "Popparameters_U_file = r'/Users/sesmaeil/Library/CloudStorage/OneDrive-SharedLibraries-FredHutchinsonCancerResearchCenter/Schiffer Group - Shared Resources - SARSCoV2ComboModeling/PK-PD Modeling/NIRpopulationParameters(2).txt'\n",
    "Indparameters_NIR = pd.read_csv(Indparameters_U_file)\n",
    "Popparameters_NIR = pd.read_csv(Popparameters_U_file)\n",
    "\n",
    "IDs = Indparameters_NIR.id.unique()\n",
    "\n",
    "data_file = r'/Users/sesmaeil/Library/CloudStorage/OneDrive-FredHutchinsonCancerResearchCenter/Covid-19/Data/NIR/NIR_Ret_250mg.csv'\n",
    "Data_NIR = pd.read_csv(data_file)"
   ]
  },
  {
   "cell_type": "code",
   "execution_count": 13,
   "id": "41e95d56",
   "metadata": {},
   "outputs": [],
   "source": [
    "Data_NIR_Clean = Data_NIR.dropna(subset=['Concentration'])"
   ]
  },
  {
   "cell_type": "code",
   "execution_count": 14,
   "id": "ca009896",
   "metadata": {},
   "outputs": [],
   "source": [
    "# Nirmatrelvir in vitro IC50\n",
    "Emax = 0.9999\n",
    "IC50 = 0.0436\n",
    "Hill = 3.16\n",
    "PDOm = 0.026, 0.0032, 0.42\n",
    "MolMass = 499.5   #g/Mol\n",
    "dose =300"
   ]
  },
  {
   "cell_type": "code",
   "execution_count": 15,
   "id": "c0b7a241",
   "metadata": {},
   "outputs": [],
   "source": [
    "def SimulateTreatmentPK(PK_Model, init, tzero, dt, tend, PKPDInd, dose, dosetimes):\n",
    "\n",
    "    #Nirmatrelvir PK Parameters for each individual\n",
    "    ka = PKPDInd['ka']/24\n",
    "    k12 = PKPDInd['kPL']/24\n",
    "    k21 = PKPDInd['kLP']/24\n",
    "    kcl = PKPDInd['kCl']/24\n",
    "    PKparams = [ka, k12, kcl, k21]\n",
    "    args = tuple(PKparams)\n",
    "    if len(dosetimes) == 1:\n",
    "        init[0] = init[0] + dose \n",
    "        t = np.arange(0,tend,dt)\n",
    "        y = spi.odeint(PK_Model, init, t, args = args)\n",
    "    else:\n",
    "        #loop through dose values\n",
    "        for j in range(0,len(dosetimes)-1):\n",
    "            init[0] = init[0] + dose \n",
    "            ttemp = np.arange(dosetimes[j],dosetimes[j+1],dt)\n",
    "            ytemp = spi.odeint(PK_Model, init, ttemp, args = args)\n",
    "            if j==0:\n",
    "                y=ytemp\n",
    "                t=ttemp\n",
    "            else:\n",
    "                t = np.concatenate((t,ttemp))\n",
    "                y = np.concatenate((y,ytemp), axis = 0)     \n",
    "            init = ytemp[-1,:].T\n",
    "        #simulate until tend\n",
    "        init = ytemp[-1,:].T\n",
    "        init[0] = init[0] + dose \n",
    "        ttemp = np.arange(dosetimes[-1],tend,dt)\n",
    "        ytemp = spi.odeint(PK_Model, init, ttemp, args = args)\n",
    "        t = np.concatenate((t,ttemp))\n",
    "        y = np.concatenate((y,ytemp), axis = 0)\n",
    "    return t, y"
   ]
  },
  {
   "cell_type": "code",
   "execution_count": 16,
   "id": "3d8de59c",
   "metadata": {},
   "outputs": [
    {
     "data": {
      "text/plain": [
       "<Figure size 1440x1080 with 0 Axes>"
      ]
     },
     "metadata": {},
     "output_type": "display_data"
    }
   ],
   "source": [
    "fig = plt.figure(figsize = (20,15))\n",
    "plt.rcParams.update({'font.size': 25})\n",
    "dose = 250*10**6 #ng\n",
    "init = [0,0,0]\n",
    "T_end = 24\n",
    "num_dose = 1\n",
    "dt = 0.001\n",
    "dosetimes = np.arange(0,T_end,T_end/num_dose)\n",
    "A_P = []\n",
    "for cc, id in enumerate(IDs):\n",
    "    init = [0,0,0]\n",
    "    PKInd = GetVLIndParams(Indparameters_NIR, id, style = 'mode')\n",
    "    t, y = SimulateTreatmentPK(PK_Model, init, 0, dt, T_end, PKInd, dose, dosetimes)\n",
    "    Ag_NIR, A1_NIR, A2_NIR = (y).T\n",
    "    A_P.append(A1_NIR)"
   ]
  },
  {
   "cell_type": "code",
   "execution_count": 17,
   "id": "ae9e91f1",
   "metadata": {},
   "outputs": [
    {
     "data": {
      "image/png": "[encoded data removed]",
      "text/plain": [
       "<Figure size 864x360 with 8 Axes>"
      ]
     },
     "metadata": {
      "needs_background": "light"
     },
     "output_type": "display_data"
    }
   ],
   "source": [
    "fig = plt.figure(figsize = (12,5))\n",
    "plt.rcParams.update({'font.size': 12})\n",
    "dose = 250*10**6 #mg\n",
    "init = [0,0,0]\n",
    "T_end = 24\n",
    "num_dose = 1\n",
    "dt = 0.001\n",
    "dosetimes = np.arange(0,T_end,T_end/num_dose)\n",
    "for cc, id in enumerate(IDs):\n",
    "    PKInd = GetVLIndParams(Indparameters_NIR, id, style = 'mode')\n",
    "    Data = Data_NIR_Clean[(Data_NIR_Clean.Id == id)]\n",
    "    t_Data = Data['Time(hr)']\n",
    "    Conc_Data = Data['Concentration']\n",
    "    plt.subplot(2,4,cc+1)\n",
    "    plt.semilogy(t_Data, Conc_Data, 'o')\n",
    "    plt.plot(t, A_P[cc]/PKInd['Vol'], color = 'grey')\n",
    "    plt.title(str(id))\n",
    "    if cc == 5:\n",
    "        plt.xlabel('time(hrs)')\n",
    "    if cc == 0:\n",
    "        plt.ylabel('plasma concentration (ng/ml)')\n",
    "plt.tight_layout()"
   ]
  },
  {
   "cell_type": "code",
   "execution_count": null,
   "id": "c27d1655",
   "metadata": {},
   "outputs": [],
   "source": []
  }
 ],
 "metadata": {
  "kernelspec": {
   "display_name": "Python 3 (ipykernel)",
   "language": "python",
   "name": "python3"
  },
  "language_info": {
   "codemirror_mode": {
    "name": "ipython",
    "version": 3
   },
   "file_extension": ".py",
   "mimetype": "text/x-python",
   "name": "python",
   "nbconvert_exporter": "python",
   "pygments_lexer": "ipython3",
   "version": "3.9.12"
  }
 },
 "nbformat": 4,
 "nbformat_minor": 5
}
